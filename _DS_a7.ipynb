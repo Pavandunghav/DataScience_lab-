{
  "nbformat": 4,
  "nbformat_minor": 0,
  "metadata": {
    "colab": {
      "provenance": [],
      "mount_file_id": "1qHfVeYsqEHxu2E1WAIUaKz228hLiRuUJ",
      "authorship_tag": "ABX9TyOYqlY9kIMycQqZIbEuJn5T",
      "include_colab_link": true
    },
    "kernelspec": {
      "name": "python3",
      "display_name": "Python 3"
    },
    "language_info": {
      "name": "python"
    }
  },
  "cells": [
    {
      "cell_type": "markdown",
      "metadata": {
        "id": "view-in-github",
        "colab_type": "text"
      },
      "source": [
        "<a href=\"https://colab.research.google.com/github/Pavandunghav/DataScience_lab-/blob/main/_DS_a7.ipynb\" target=\"_parent\"><img src=\"https://colab.research.google.com/assets/colab-badge.svg\" alt=\"Open In Colab\"/></a>"
      ]
    },
    {
      "cell_type": "code",
      "execution_count": 31,
      "metadata": {
        "colab": {
          "base_uri": "https://localhost:8080/",
          "height": 72
        },
        "id": "fRZBENs6iUP4",
        "outputId": "e9849927-14ce-43c0-bf46-de66390d5026"
      },
      "outputs": [
        {
          "output_type": "execute_result",
          "data": {
            "text/plain": [
              "'  \\n  \\n  Text Analytics\\n1.\\tExtract Sample document and apply following document preprocessing methods: Tokenization, POS Tagging, stop words removal, Stemming and Lemmatization.\\n2.\\tCreate representation of documents by calculating Term Frequency and Inverse Document Frequency.\\n\\n\\n\\n\\n'"
            ],
            "application/vnd.google.colaboratory.intrinsic+json": {
              "type": "string"
            }
          },
          "metadata": {},
          "execution_count": 31
        }
      ],
      "source": [
        " '''\n",
        "\n",
        "   Text Analytics\n",
        "1.\tExtract Sample document and apply following document preprocessing methods: Tokenization, POS Tagging, stop words removal, Stemming and Lemmatization.\n",
        "2.\tCreate representation of documents by calculating Term Frequency and Inverse Document Frequency.\n",
        "\n",
        "\n",
        "\n",
        "\n",
        "'''"
      ]
    },
    {
      "cell_type": "code",
      "source": [
        "import nltk\n",
        "nltk.download('punkt')\n",
        "nltk.download(\"stopwords\")\n",
        "nltk.download(\"wordnet\")\n",
        "!pip install nltk"
      ],
      "metadata": {
        "colab": {
          "base_uri": "https://localhost:8080/"
        },
        "id": "TTiZ9VeQue2e",
        "outputId": "5efbb763-1dff-4d9a-9408-da40b8840979"
      },
      "execution_count": 50,
      "outputs": [
        {
          "output_type": "stream",
          "name": "stderr",
          "text": [
            "[nltk_data] Downloading package punkt to /root/nltk_data...\n",
            "[nltk_data]   Package punkt is already up-to-date!\n",
            "[nltk_data] Downloading package stopwords to /root/nltk_data...\n",
            "[nltk_data]   Package stopwords is already up-to-date!\n",
            "[nltk_data] Downloading package wordnet to /root/nltk_data...\n"
          ]
        },
        {
          "output_type": "stream",
          "name": "stdout",
          "text": [
            "Requirement already satisfied: nltk in /usr/local/lib/python3.10/dist-packages (3.8.1)\n",
            "Requirement already satisfied: click in /usr/local/lib/python3.10/dist-packages (from nltk) (8.1.7)\n",
            "Requirement already satisfied: joblib in /usr/local/lib/python3.10/dist-packages (from nltk) (1.4.0)\n",
            "Requirement already satisfied: regex>=2021.8.3 in /usr/local/lib/python3.10/dist-packages (from nltk) (2023.12.25)\n",
            "Requirement already satisfied: tqdm in /usr/local/lib/python3.10/dist-packages (from nltk) (4.66.2)\n"
          ]
        }
      ]
    },
    {
      "cell_type": "code",
      "source": [
        "input=\"Earth, the third planet from the Sun, is the only known celestial body in the universe to harbor life. It is a beautiful and diverse planet, characterized by vast oceans, towering mountains, lush forests, and sprawling plains. Earth's atmosphere, composed primarily of nitrogen and oxygen, provides the perfect conditions for life to thrive. From the smallest microorganisms to the largest mammals, Earth is home to an incredible array of living organisms, each playing a unique role in the planet's interconnected ecosystems. However, Earth is facing numerous challenges, including climate change, pollution, deforestation, and loss of biodiversity. As stewards of this planet, it is our responsibility to protect and preserve Earth's delicate balance for future generations to enjoy.\"\n",
        "\n"
      ],
      "metadata": {
        "id": "abm1VkAspUol"
      },
      "execution_count": 32,
      "outputs": []
    },
    {
      "cell_type": "code",
      "source": [
        "import re\n",
        "\n",
        "\n",
        "input1=re.sub('[^a-zA-z]',' ',input)\n",
        "\n",
        "\n",
        "input1"
      ],
      "metadata": {
        "colab": {
          "base_uri": "https://localhost:8080/",
          "height": 127
        },
        "id": "FLXiLY1apUrU",
        "outputId": "e8d4c415-f2cf-4ba2-c130-f9df92481a94"
      },
      "execution_count": 33,
      "outputs": [
        {
          "output_type": "execute_result",
          "data": {
            "text/plain": [
              "'Earth  the third planet from the Sun  is the only known celestial body in the universe to harbor life  It is a beautiful and diverse planet  characterized by vast oceans  towering mountains  lush forests  and sprawling plains  Earth s atmosphere  composed primarily of nitrogen and oxygen  provides the perfect conditions for life to thrive  From the smallest microorganisms to the largest mammals  Earth is home to an incredible array of living organisms  each playing a unique role in the planet s interconnected ecosystems  However  Earth is facing numerous challenges  including climate change  pollution  deforestation  and loss of biodiversity  As stewards of this planet  it is our responsibility to protect and preserve Earth s delicate balance for future generations to enjoy '"
            ],
            "application/vnd.google.colaboratory.intrinsic+json": {
              "type": "string"
            }
          },
          "metadata": {},
          "execution_count": 33
        }
      ]
    },
    {
      "cell_type": "code",
      "source": [
        "input2=input1.lower()\n",
        "input2"
      ],
      "metadata": {
        "colab": {
          "base_uri": "https://localhost:8080/",
          "height": 127
        },
        "id": "6Gr96fqFpUt2",
        "outputId": "234cfdb6-3011-4533-a01b-e62ab8f04f1f"
      },
      "execution_count": 34,
      "outputs": [
        {
          "output_type": "execute_result",
          "data": {
            "text/plain": [
              "'earth  the third planet from the sun  is the only known celestial body in the universe to harbor life  it is a beautiful and diverse planet  characterized by vast oceans  towering mountains  lush forests  and sprawling plains  earth s atmosphere  composed primarily of nitrogen and oxygen  provides the perfect conditions for life to thrive  from the smallest microorganisms to the largest mammals  earth is home to an incredible array of living organisms  each playing a unique role in the planet s interconnected ecosystems  however  earth is facing numerous challenges  including climate change  pollution  deforestation  and loss of biodiversity  as stewards of this planet  it is our responsibility to protect and preserve earth s delicate balance for future generations to enjoy '"
            ],
            "application/vnd.google.colaboratory.intrinsic+json": {
              "type": "string"
            }
          },
          "metadata": {},
          "execution_count": 34
        }
      ]
    },
    {
      "cell_type": "code",
      "source": [],
      "metadata": {
        "colab": {
          "base_uri": "https://localhost:8080/"
        },
        "id": "ESSKScBGsC7W",
        "outputId": "8cf0581b-cf46-4ab1-9624-ca38a910b81f"
      },
      "execution_count": 35,
      "outputs": [
        {
          "output_type": "stream",
          "name": "stderr",
          "text": [
            "[nltk_data] Downloading package punkt to /root/nltk_data...\n",
            "[nltk_data]   Package punkt is already up-to-date!\n"
          ]
        },
        {
          "output_type": "stream",
          "name": "stdout",
          "text": [
            "Requirement already satisfied: nltk in /usr/local/lib/python3.10/dist-packages (3.8.1)\n",
            "Requirement already satisfied: click in /usr/local/lib/python3.10/dist-packages (from nltk) (8.1.7)\n",
            "Requirement already satisfied: joblib in /usr/local/lib/python3.10/dist-packages (from nltk) (1.4.0)\n",
            "Requirement already satisfied: regex>=2021.8.3 in /usr/local/lib/python3.10/dist-packages (from nltk) (2023.12.25)\n",
            "Requirement already satisfied: tqdm in /usr/local/lib/python3.10/dist-packages (from nltk) (4.66.2)\n"
          ]
        }
      ]
    },
    {
      "cell_type": "code",
      "source": [
        "#tokenization\n",
        "\n",
        "\n",
        "from nltk.tokenize import word_tokenize\n",
        "\n",
        "\n",
        "input3=word_tokenize(input2)\n",
        "input3"
      ],
      "metadata": {
        "colab": {
          "base_uri": "https://localhost:8080/"
        },
        "id": "GCM2G0mWpUwh",
        "outputId": "2d763e61-1883-4a94-c205-c464fe8a8cbc"
      },
      "execution_count": 36,
      "outputs": [
        {
          "output_type": "execute_result",
          "data": {
            "text/plain": [
              "['earth',\n",
              " 'the',\n",
              " 'third',\n",
              " 'planet',\n",
              " 'from',\n",
              " 'the',\n",
              " 'sun',\n",
              " 'is',\n",
              " 'the',\n",
              " 'only',\n",
              " 'known',\n",
              " 'celestial',\n",
              " 'body',\n",
              " 'in',\n",
              " 'the',\n",
              " 'universe',\n",
              " 'to',\n",
              " 'harbor',\n",
              " 'life',\n",
              " 'it',\n",
              " 'is',\n",
              " 'a',\n",
              " 'beautiful',\n",
              " 'and',\n",
              " 'diverse',\n",
              " 'planet',\n",
              " 'characterized',\n",
              " 'by',\n",
              " 'vast',\n",
              " 'oceans',\n",
              " 'towering',\n",
              " 'mountains',\n",
              " 'lush',\n",
              " 'forests',\n",
              " 'and',\n",
              " 'sprawling',\n",
              " 'plains',\n",
              " 'earth',\n",
              " 's',\n",
              " 'atmosphere',\n",
              " 'composed',\n",
              " 'primarily',\n",
              " 'of',\n",
              " 'nitrogen',\n",
              " 'and',\n",
              " 'oxygen',\n",
              " 'provides',\n",
              " 'the',\n",
              " 'perfect',\n",
              " 'conditions',\n",
              " 'for',\n",
              " 'life',\n",
              " 'to',\n",
              " 'thrive',\n",
              " 'from',\n",
              " 'the',\n",
              " 'smallest',\n",
              " 'microorganisms',\n",
              " 'to',\n",
              " 'the',\n",
              " 'largest',\n",
              " 'mammals',\n",
              " 'earth',\n",
              " 'is',\n",
              " 'home',\n",
              " 'to',\n",
              " 'an',\n",
              " 'incredible',\n",
              " 'array',\n",
              " 'of',\n",
              " 'living',\n",
              " 'organisms',\n",
              " 'each',\n",
              " 'playing',\n",
              " 'a',\n",
              " 'unique',\n",
              " 'role',\n",
              " 'in',\n",
              " 'the',\n",
              " 'planet',\n",
              " 's',\n",
              " 'interconnected',\n",
              " 'ecosystems',\n",
              " 'however',\n",
              " 'earth',\n",
              " 'is',\n",
              " 'facing',\n",
              " 'numerous',\n",
              " 'challenges',\n",
              " 'including',\n",
              " 'climate',\n",
              " 'change',\n",
              " 'pollution',\n",
              " 'deforestation',\n",
              " 'and',\n",
              " 'loss',\n",
              " 'of',\n",
              " 'biodiversity',\n",
              " 'as',\n",
              " 'stewards',\n",
              " 'of',\n",
              " 'this',\n",
              " 'planet',\n",
              " 'it',\n",
              " 'is',\n",
              " 'our',\n",
              " 'responsibility',\n",
              " 'to',\n",
              " 'protect',\n",
              " 'and',\n",
              " 'preserve',\n",
              " 'earth',\n",
              " 's',\n",
              " 'delicate',\n",
              " 'balance',\n",
              " 'for',\n",
              " 'future',\n",
              " 'generations',\n",
              " 'to',\n",
              " 'enjoy']"
            ]
          },
          "metadata": {},
          "execution_count": 36
        }
      ]
    },
    {
      "cell_type": "code",
      "source": [
        "from nltk.corpus import stopwords\n",
        "\n",
        "input4 = []\n",
        "\n",
        "for word in input3:\n",
        "    if word.lower() not in stopwords.words('english'):\n",
        "        input4.append(word)\n",
        "\n",
        "input4"
      ],
      "metadata": {
        "colab": {
          "base_uri": "https://localhost:8080/"
        },
        "id": "T5ZP33QYpUzV",
        "outputId": "8b65d729-04af-40f5-bbb2-3d9c4e9bc94b"
      },
      "execution_count": 43,
      "outputs": [
        {
          "output_type": "execute_result",
          "data": {
            "text/plain": [
              "['earth',\n",
              " 'third',\n",
              " 'planet',\n",
              " 'sun',\n",
              " 'known',\n",
              " 'celestial',\n",
              " 'body',\n",
              " 'universe',\n",
              " 'harbor',\n",
              " 'life',\n",
              " 'beautiful',\n",
              " 'diverse',\n",
              " 'planet',\n",
              " 'characterized',\n",
              " 'vast',\n",
              " 'oceans',\n",
              " 'towering',\n",
              " 'mountains',\n",
              " 'lush',\n",
              " 'forests',\n",
              " 'sprawling',\n",
              " 'plains',\n",
              " 'earth',\n",
              " 'atmosphere',\n",
              " 'composed',\n",
              " 'primarily',\n",
              " 'nitrogen',\n",
              " 'oxygen',\n",
              " 'provides',\n",
              " 'perfect',\n",
              " 'conditions',\n",
              " 'life',\n",
              " 'thrive',\n",
              " 'smallest',\n",
              " 'microorganisms',\n",
              " 'largest',\n",
              " 'mammals',\n",
              " 'earth',\n",
              " 'home',\n",
              " 'incredible',\n",
              " 'array',\n",
              " 'living',\n",
              " 'organisms',\n",
              " 'playing',\n",
              " 'unique',\n",
              " 'role',\n",
              " 'planet',\n",
              " 'interconnected',\n",
              " 'ecosystems',\n",
              " 'however',\n",
              " 'earth',\n",
              " 'facing',\n",
              " 'numerous',\n",
              " 'challenges',\n",
              " 'including',\n",
              " 'climate',\n",
              " 'change',\n",
              " 'pollution',\n",
              " 'deforestation',\n",
              " 'loss',\n",
              " 'biodiversity',\n",
              " 'stewards',\n",
              " 'planet',\n",
              " 'responsibility',\n",
              " 'protect',\n",
              " 'preserve',\n",
              " 'earth',\n",
              " 'delicate',\n",
              " 'balance',\n",
              " 'future',\n",
              " 'generations',\n",
              " 'enjoy']"
            ]
          },
          "metadata": {},
          "execution_count": 43
        }
      ]
    },
    {
      "cell_type": "code",
      "source": [
        "from nltk.stem import WordNetLemmatizer\n",
        "\n",
        "\n",
        "input5=[]\n",
        "\n",
        "lemmatizer=WordNetLemmatizer()\n",
        "\n",
        "\n",
        "for i in input4:\n",
        "\n",
        "\n",
        "  input5.append(lemmatizer.lemmatize(i))\n",
        "\n",
        "\n",
        "input5"
      ],
      "metadata": {
        "colab": {
          "base_uri": "https://localhost:8080/"
        },
        "id": "wBNuvhLJpU27",
        "outputId": "5418d856-2fc7-432c-f064-2b2073c4df68"
      },
      "execution_count": 56,
      "outputs": [
        {
          "output_type": "execute_result",
          "data": {
            "text/plain": [
              "['earth',\n",
              " 'third',\n",
              " 'planet',\n",
              " 'sun',\n",
              " 'known',\n",
              " 'celestial',\n",
              " 'body',\n",
              " 'universe',\n",
              " 'harbor',\n",
              " 'life',\n",
              " 'beautiful',\n",
              " 'diverse',\n",
              " 'planet',\n",
              " 'characterized',\n",
              " 'vast',\n",
              " 'ocean',\n",
              " 'towering',\n",
              " 'mountain',\n",
              " 'lush',\n",
              " 'forest',\n",
              " 'sprawling',\n",
              " 'plain',\n",
              " 'earth',\n",
              " 'atmosphere',\n",
              " 'composed',\n",
              " 'primarily',\n",
              " 'nitrogen',\n",
              " 'oxygen',\n",
              " 'provides',\n",
              " 'perfect',\n",
              " 'condition',\n",
              " 'life',\n",
              " 'thrive',\n",
              " 'smallest',\n",
              " 'microorganism',\n",
              " 'largest',\n",
              " 'mammal',\n",
              " 'earth',\n",
              " 'home',\n",
              " 'incredible',\n",
              " 'array',\n",
              " 'living',\n",
              " 'organism',\n",
              " 'playing',\n",
              " 'unique',\n",
              " 'role',\n",
              " 'planet',\n",
              " 'interconnected',\n",
              " 'ecosystem',\n",
              " 'however',\n",
              " 'earth',\n",
              " 'facing',\n",
              " 'numerous',\n",
              " 'challenge',\n",
              " 'including',\n",
              " 'climate',\n",
              " 'change',\n",
              " 'pollution',\n",
              " 'deforestation',\n",
              " 'loss',\n",
              " 'biodiversity',\n",
              " 'steward',\n",
              " 'planet',\n",
              " 'responsibility',\n",
              " 'protect',\n",
              " 'preserve',\n",
              " 'earth',\n",
              " 'delicate',\n",
              " 'balance',\n",
              " 'future',\n",
              " 'generation',\n",
              " 'enjoy']"
            ]
          },
          "metadata": {},
          "execution_count": 56
        }
      ]
    },
    {
      "cell_type": "code",
      "source": [],
      "metadata": {
        "colab": {
          "base_uri": "https://localhost:8080/"
        },
        "id": "3bXyjoE9wuZS",
        "outputId": "4bf2ba6c-74cd-4e4a-e49f-0d45d39396ba"
      },
      "execution_count": 57,
      "outputs": [
        {
          "output_type": "stream",
          "name": "stderr",
          "text": [
            "[nltk_data] Downloading package averaged_perceptron_tagger to\n",
            "[nltk_data]     /root/nltk_data...\n",
            "[nltk_data]   Unzipping taggers/averaged_perceptron_tagger.zip.\n"
          ]
        },
        {
          "output_type": "execute_result",
          "data": {
            "text/plain": [
              "True"
            ]
          },
          "metadata": {},
          "execution_count": 57
        }
      ]
    },
    {
      "cell_type": "code",
      "source": [
        "result=nltk.pos_tag(input5,lang='eng')"
      ],
      "metadata": {
        "id": "BNzrrBZ1wJAt"
      },
      "execution_count": 62,
      "outputs": []
    },
    {
      "cell_type": "code",
      "source": [],
      "metadata": {
        "id": "DeZJIobWvNX0"
      },
      "execution_count": 62,
      "outputs": []
    },
    {
      "cell_type": "code",
      "source": [],
      "metadata": {
        "id": "u3lqEcDixn0P"
      },
      "execution_count": 62,
      "outputs": []
    },
    {
      "cell_type": "code",
      "source": [
        "###Part2\n",
        "\n",
        "##TFIDF values"
      ],
      "metadata": {
        "id": "eBO_ouf1xn3Z"
      },
      "execution_count": 66,
      "outputs": []
    },
    {
      "cell_type": "code",
      "source": [
        "from nltk.tokenize import sent_tokenize\n",
        "\n",
        "\n",
        "tfidf_input=sent_tokenize(input)\n",
        "\n",
        "tfidf_input"
      ],
      "metadata": {
        "colab": {
          "base_uri": "https://localhost:8080/"
        },
        "id": "s60bbXE7yrg6",
        "outputId": "03de5791-e77a-4bfa-dca4-64c852d167eb"
      },
      "execution_count": 68,
      "outputs": [
        {
          "output_type": "execute_result",
          "data": {
            "text/plain": [
              "['Earth, the third planet from the Sun, is the only known celestial body in the universe to harbor life.',\n",
              " 'It is a beautiful and diverse planet, characterized by vast oceans, towering mountains, lush forests, and sprawling plains.',\n",
              " \"Earth's atmosphere, composed primarily of nitrogen and oxygen, provides the perfect conditions for life to thrive.\",\n",
              " \"From the smallest microorganisms to the largest mammals, Earth is home to an incredible array of living organisms, each playing a unique role in the planet's interconnected ecosystems.\",\n",
              " 'However, Earth is facing numerous challenges, including climate change, pollution, deforestation, and loss of biodiversity.',\n",
              " \"As stewards of this planet, it is our responsibility to protect and preserve Earth's delicate balance for future generations to enjoy.\"]"
            ]
          },
          "metadata": {},
          "execution_count": 68
        }
      ]
    },
    {
      "cell_type": "code",
      "source": [
        "\n",
        "from sklearn.feature_extraction.text import TfidfVectorizer\n",
        "\n",
        "\n",
        "\n",
        "vectorizer=TfidfVectorizer(use_idf=True)\n",
        "\n",
        "\n",
        "\n",
        "values=vectorizer.fit_transform(tfidf_input)\n",
        "\n",
        "print(values)\n",
        "\n",
        "print((vectorizer.vocabulary_))\n",
        "\n",
        "\n",
        "\n",
        "\n",
        "\n"
      ],
      "metadata": {
        "colab": {
          "base_uri": "https://localhost:8080/"
        },
        "id": "OFbQVTW2yK3N",
        "outputId": "24e911fc-4876-4461-db3d-a3a65c10e334"
      },
      "execution_count": 74,
      "outputs": [
        {
          "output_type": "stream",
          "name": "stdout",
          "text": [
            "  (0, 41)\t0.1885469810125386\n",
            "  (0, 30)\t0.2299313314624941\n",
            "  (0, 75)\t0.1364088655249061\n",
            "  (0, 78)\t0.2299313314624941\n",
            "  (0, 33)\t0.1885469810125386\n",
            "  (0, 8)\t0.2299313314624941\n",
            "  (0, 10)\t0.2299313314624941\n",
            "  (0, 39)\t0.2299313314624941\n",
            "  (0, 52)\t0.2299313314624941\n",
            "  (0, 37)\t0.11779996663309403\n",
            "  (0, 70)\t0.2299313314624941\n",
            "  (0, 27)\t0.1885469810125386\n",
            "  (0, 58)\t0.1364088655249061\n",
            "  (0, 72)\t0.2299313314624941\n",
            "  (0, 71)\t0.6367372683321981\n",
            "  (0, 21)\t0.11779996663309403\n",
            "  (1, 57)\t0.260867436946336\n",
            "  (1, 68)\t0.260867436946336\n",
            "  (1, 26)\t0.260867436946336\n",
            "  (1, 44)\t0.260867436946336\n",
            "  (1, 47)\t0.260867436946336\n",
            "  (1, 76)\t0.260867436946336\n",
            "  (1, 50)\t0.260867436946336\n",
            "  (1, 79)\t0.260867436946336\n",
            "  (1, 9)\t0.260867436946336\n",
            "  :\t:\n",
            "  (4, 32)\t0.2859610168157653\n",
            "  (4, 51)\t0.16964898885278704\n",
            "  (4, 1)\t0.16964898885278704\n",
            "  (4, 37)\t0.14650547198156685\n",
            "  (4, 21)\t0.14650547198156685\n",
            "  (5, 23)\t0.24743457344579847\n",
            "  (5, 29)\t0.24743457344579847\n",
            "  (5, 28)\t0.24743457344579847\n",
            "  (5, 5)\t0.24743457344579847\n",
            "  (5, 18)\t0.24743457344579847\n",
            "  (5, 61)\t0.24743457344579847\n",
            "  (5, 63)\t0.24743457344579847\n",
            "  (5, 65)\t0.24743457344579847\n",
            "  (5, 54)\t0.24743457344579847\n",
            "  (5, 73)\t0.24743457344579847\n",
            "  (5, 69)\t0.24743457344579847\n",
            "  (5, 3)\t0.24743457344579847\n",
            "  (5, 25)\t0.20289988982619578\n",
            "  (5, 51)\t0.14679282393006987\n",
            "  (5, 1)\t0.14679282393006987\n",
            "  (5, 38)\t0.20289988982619578\n",
            "  (5, 75)\t0.29358564786013974\n",
            "  (5, 37)\t0.12676734532172027\n",
            "  (5, 58)\t0.14679282393006987\n",
            "  (5, 21)\t0.12676734532172027\n",
            "{'earth': 21, 'the': 71, 'third': 72, 'planet': 58, 'from': 27, 'sun': 70, 'is': 37, 'only': 52, 'known': 39, 'celestial': 10, 'body': 8, 'in': 33, 'universe': 78, 'to': 75, 'harbor': 30, 'life': 41, 'it': 38, 'beautiful': 6, 'and': 1, 'diverse': 19, 'characterized': 13, 'by': 9, 'vast': 79, 'oceans': 50, 'towering': 76, 'mountains': 47, 'lush': 44, 'forests': 26, 'sprawling': 68, 'plains': 57, 'atmosphere': 4, 'composed': 15, 'primarily': 62, 'of': 51, 'nitrogen': 48, 'oxygen': 55, 'provides': 64, 'perfect': 56, 'conditions': 16, 'for': 25, 'thrive': 74, 'smallest': 67, 'microorganisms': 46, 'largest': 40, 'mammals': 45, 'home': 31, 'an': 0, 'incredible': 35, 'array': 2, 'living': 42, 'organisms': 53, 'each': 20, 'playing': 59, 'unique': 77, 'role': 66, 'interconnected': 36, 'ecosystems': 22, 'however': 32, 'facing': 24, 'numerous': 49, 'challenges': 11, 'including': 34, 'climate': 14, 'change': 12, 'pollution': 60, 'deforestation': 17, 'loss': 43, 'biodiversity': 7, 'as': 3, 'stewards': 69, 'this': 73, 'our': 54, 'responsibility': 65, 'protect': 63, 'preserve': 61, 'delicate': 18, 'balance': 5, 'future': 28, 'generations': 29, 'enjoy': 23}\n"
          ]
        }
      ]
    },
    {
      "cell_type": "code",
      "source": [],
      "metadata": {
        "id": "O5d6e_DByby5"
      },
      "execution_count": 65,
      "outputs": []
    },
    {
      "cell_type": "code",
      "source": [],
      "metadata": {
        "id": "K_hz0oKoyb2C"
      },
      "execution_count": 65,
      "outputs": []
    },
    {
      "cell_type": "code",
      "source": [],
      "metadata": {
        "id": "iepgHVqayb4o"
      },
      "execution_count": null,
      "outputs": []
    }
  ]
}